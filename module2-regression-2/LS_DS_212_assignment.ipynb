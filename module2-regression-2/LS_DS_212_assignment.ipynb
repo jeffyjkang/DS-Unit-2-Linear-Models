{
 "cells": [
  {
   "cell_type": "markdown",
   "metadata": {},
   "source": [
    "Lambda School Data Science\n",
    "\n",
    "*Unit 2, Sprint 1, Module 2*\n",
    "\n",
    "---"
   ]
  },
  {
   "cell_type": "code",
   "execution_count": 8,
   "metadata": {},
   "outputs": [],
   "source": [
    "%%capture\n",
    "import sys\n",
    "\n",
    "# If you're on Colab:\n",
    "if 'google.colab' in sys.modules:\n",
    "    DATA_PATH = 'https://raw.githubusercontent.com/LambdaSchool/DS-Unit-2-Applied-Modeling/master/data/'\n",
    "\n",
    "# If you're working locally:\n",
    "else:\n",
    "    DATA_PATH = '../data/'"
   ]
  },
  {
   "cell_type": "markdown",
   "metadata": {},
   "source": [
    "# Module Project: Regression II\n",
    "\n",
    "In this project, you'll continue working with the New York City rent dataset you used in the last module project.\n",
    "\n",
    "## Directions\n",
    "\n",
    "The tasks for this project are as follows:\n",
    "\n",
    "- **Task 1:** Import `csv` file using `wrangle` function.\n",
    "- **Task 2:** Conduct exploratory data analysis (EDA), and modify `wrangle` function to engineer two new features.\n",
    "- **Task 3:** Split data into feature matrix `X` and target vector `y`.\n",
    "- **Task 4:** Split feature matrix `X` and target vector `y` into training and test sets.\n",
    "- **Task 5:** Establish the baseline mean absolute error for your dataset.\n",
    "- **Task 6:** Build and train a `Linearregression` model.\n",
    "- **Task 7:** Calculate the training and test mean absolute error for your model.\n",
    "- **Task 8:** Calculate the training and test $R^2$ score for your model.\n",
    "- **Stretch Goal:** Determine the three most important features for your linear regression model.\n",
    "\n",
    "**Note**\n",
    "\n",
    "You should limit yourself to the following libraries for this project:\n",
    "\n",
    "- `matplotlib`\n",
    "- `numpy`\n",
    "- `pandas`\n",
    "- `sklearn`"
   ]
  },
  {
   "cell_type": "markdown",
   "metadata": {},
   "source": [
    "# I. Wrangle Data"
   ]
  },
  {
   "cell_type": "code",
   "execution_count": 110,
   "metadata": {},
   "outputs": [],
   "source": [
    "def wrangle(filepath):\n",
    "    df = pd.read_csv(\n",
    "        filepath,\n",
    "        parse_dates=['created'],\n",
    "#         index_col='created'       \n",
    "    ).dropna()\n",
    "    df.sort_values(by=['created'], inplace=True)\n",
    "    # Remove the most extreme 1% prices,\n",
    "    # the most extreme .1% latitudes, &\n",
    "    # the most extreme .1% longitudes\n",
    "    df = df[(df['price'] >= np.percentile(df['price'], 0.5)) & \n",
    "            (df['price'] <= np.percentile(df['price'], 99.5)) & \n",
    "            (df['latitude'] >= np.percentile(df['latitude'], 0.05)) & \n",
    "            (df['latitude'] < np.percentile(df['latitude'], 99.95)) &\n",
    "            (df['longitude'] >= np.percentile(df['longitude'], 0.05)) & \n",
    "            (df['longitude'] <= np.percentile(df['longitude'], 99.95))]\n",
    "    df['month'] = pd.DatetimeIndex(df['created']).month\n",
    "    df = df.set_index('month')\n",
    "    return df\n",
    "\n",
    "filepath = DATA_PATH + 'apartments/renthop-nyc.csv'"
   ]
  },
  {
   "cell_type": "markdown",
   "metadata": {},
   "source": [
    "**Task 1:** Add the following functionality to the above `wrangle` function.\n",
    "\n",
    "- The `'created'` column will parsed as a `DateTime` object and set as the `index` of the DataFrame. \n",
    "- Rows with `NaN` values will be dropped.\n",
    "\n",
    "Then use your modified function to import the `renthop-nyc.csv` file into a DataFrame named `df`."
   ]
  },
  {
   "cell_type": "code",
   "execution_count": 120,
   "metadata": {},
   "outputs": [
    {
     "name": "stdout",
     "output_type": "stream",
     "text": [
      "(47260, 34)\n",
      "<class 'pandas.core.frame.DataFrame'>\n",
      "Int64Index: 47260 entries, 4 to 6\n",
      "Data columns (total 34 columns):\n",
      " #   Column                Non-Null Count  Dtype         \n",
      "---  ------                --------------  -----         \n",
      " 0   bathrooms             47260 non-null  float64       \n",
      " 1   bedrooms              47260 non-null  int64         \n",
      " 2   created               47260 non-null  datetime64[ns]\n",
      " 3   description           47260 non-null  object        \n",
      " 4   display_address       47260 non-null  object        \n",
      " 5   latitude              47260 non-null  float64       \n",
      " 6   longitude             47260 non-null  float64       \n",
      " 7   price                 47260 non-null  int64         \n",
      " 8   street_address        47260 non-null  object        \n",
      " 9   interest_level        47260 non-null  object        \n",
      " 10  elevator              47260 non-null  int64         \n",
      " 11  cats_allowed          47260 non-null  int64         \n",
      " 12  hardwood_floors       47260 non-null  int64         \n",
      " 13  dogs_allowed          47260 non-null  int64         \n",
      " 14  doorman               47260 non-null  int64         \n",
      " 15  dishwasher            47260 non-null  int64         \n",
      " 16  no_fee                47260 non-null  int64         \n",
      " 17  laundry_in_building   47260 non-null  int64         \n",
      " 18  fitness_center        47260 non-null  int64         \n",
      " 19  pre-war               47260 non-null  int64         \n",
      " 20  laundry_in_unit       47260 non-null  int64         \n",
      " 21  roof_deck             47260 non-null  int64         \n",
      " 22  outdoor_space         47260 non-null  int64         \n",
      " 23  dining_room           47260 non-null  int64         \n",
      " 24  high_speed_internet   47260 non-null  int64         \n",
      " 25  balcony               47260 non-null  int64         \n",
      " 26  swimming_pool         47260 non-null  int64         \n",
      " 27  new_construction      47260 non-null  int64         \n",
      " 28  terrace               47260 non-null  int64         \n",
      " 29  exclusive             47260 non-null  int64         \n",
      " 30  loft                  47260 non-null  int64         \n",
      " 31  garden_patio          47260 non-null  int64         \n",
      " 32  wheelchair_access     47260 non-null  int64         \n",
      " 33  common_outdoor_space  47260 non-null  int64         \n",
      "dtypes: datetime64[ns](1), float64(3), int64(26), object(4)\n",
      "memory usage: 12.6+ MB\n",
      "None\n",
      "       bathrooms  bedrooms             created  \\\n",
      "month                                            \n",
      "4            1.0         1 2016-04-01 22:12:41   \n",
      "4            1.0         0 2016-04-01 22:56:00   \n",
      "4            2.0         3 2016-04-01 22:57:15   \n",
      "4            1.0         1 2016-04-01 23:26:07   \n",
      "4            1.0         1 2016-04-02 00:48:13   \n",
      "\n",
      "                                             description  \\\n",
      "month                                                      \n",
      "4      X-LARGE Flex 1BR Loft! ~~ PRIME Greenwich Vill...   \n",
      "4      This Enormous Studio Features: Harwood Floors,...   \n",
      "4      --- East 31st St & Lexington Avenue --- This S...   \n",
      "4      Reduced Fee!! Priced To Rent!\\rLarge Newly Upd...   \n",
      "4      Phenomenal deal of the century!! This spacious...   \n",
      "\n",
      "                       display_address  latitude  longitude  price  \\\n",
      "month                                                                \n",
      "4                          Astor Place   40.7302   -73.9924   3195   \n",
      "4                     East 54th Street   40.7576   -73.9677   2000   \n",
      "4      East 31st St & Lexington Avenue   40.7388   -73.9851   5850   \n",
      "4                         West End Ave   40.7939   -73.9738   2745   \n",
      "4                        E 88th street   40.7784   -73.9491   2400   \n",
      "\n",
      "             street_address interest_level  ...  high_speed_internet  balcony  \\\n",
      "month                                       ...                                 \n",
      "4             1 Astor Place           high  ...                    0        0   \n",
      "4      230 East 54th Street         medium  ...                    0        0   \n",
      "4      105 Lexington Avenue           high  ...                    0        0   \n",
      "4          700 West End Ave         medium  ...                    0        0   \n",
      "4         401 E 88th street         medium  ...                    0        0   \n",
      "\n",
      "       swimming_pool  new_construction  terrace  exclusive  loft  \\\n",
      "month                                                              \n",
      "4                  0                 0        0          0     0   \n",
      "4                  0                 0        0          0     0   \n",
      "4                  0                 0        0          0     0   \n",
      "4                  0                 0        0          0     0   \n",
      "4                  0                 0        0          0     0   \n",
      "\n",
      "       garden_patio  wheelchair_access  common_outdoor_space  \n",
      "month                                                         \n",
      "4                 0                  0                     0  \n",
      "4                 0                  0                     0  \n",
      "4                 0                  0                     1  \n",
      "4                 0                  0                     1  \n",
      "4                 0                  0                     0  \n",
      "\n",
      "[5 rows x 34 columns]\n"
     ]
    },
    {
     "data": {
      "text/html": [
       "<div>\n",
       "<style scoped>\n",
       "    .dataframe tbody tr th:only-of-type {\n",
       "        vertical-align: middle;\n",
       "    }\n",
       "\n",
       "    .dataframe tbody tr th {\n",
       "        vertical-align: top;\n",
       "    }\n",
       "\n",
       "    .dataframe thead th {\n",
       "        text-align: right;\n",
       "    }\n",
       "</style>\n",
       "<table border=\"1\" class=\"dataframe\">\n",
       "  <thead>\n",
       "    <tr style=\"text-align: right;\">\n",
       "      <th></th>\n",
       "      <th>bathrooms</th>\n",
       "      <th>bedrooms</th>\n",
       "      <th>created</th>\n",
       "      <th>description</th>\n",
       "      <th>display_address</th>\n",
       "      <th>latitude</th>\n",
       "      <th>longitude</th>\n",
       "      <th>price</th>\n",
       "      <th>street_address</th>\n",
       "      <th>interest_level</th>\n",
       "      <th>...</th>\n",
       "      <th>high_speed_internet</th>\n",
       "      <th>balcony</th>\n",
       "      <th>swimming_pool</th>\n",
       "      <th>new_construction</th>\n",
       "      <th>terrace</th>\n",
       "      <th>exclusive</th>\n",
       "      <th>loft</th>\n",
       "      <th>garden_patio</th>\n",
       "      <th>wheelchair_access</th>\n",
       "      <th>common_outdoor_space</th>\n",
       "    </tr>\n",
       "    <tr>\n",
       "      <th>month</th>\n",
       "      <th></th>\n",
       "      <th></th>\n",
       "      <th></th>\n",
       "      <th></th>\n",
       "      <th></th>\n",
       "      <th></th>\n",
       "      <th></th>\n",
       "      <th></th>\n",
       "      <th></th>\n",
       "      <th></th>\n",
       "      <th></th>\n",
       "      <th></th>\n",
       "      <th></th>\n",
       "      <th></th>\n",
       "      <th></th>\n",
       "      <th></th>\n",
       "      <th></th>\n",
       "      <th></th>\n",
       "      <th></th>\n",
       "      <th></th>\n",
       "      <th></th>\n",
       "    </tr>\n",
       "  </thead>\n",
       "  <tbody>\n",
       "    <tr>\n",
       "      <th>6</th>\n",
       "      <td>1.0</td>\n",
       "      <td>2</td>\n",
       "      <td>2016-06-29 17:47:34</td>\n",
       "      <td>Newly renovated, clean, quiet &amp; very bright  2...</td>\n",
       "      <td>At Thompson St</td>\n",
       "      <td>40.7261</td>\n",
       "      <td>-74.0014</td>\n",
       "      <td>3045</td>\n",
       "      <td>132 Thompson St #20</td>\n",
       "      <td>medium</td>\n",
       "      <td>...</td>\n",
       "      <td>0</td>\n",
       "      <td>0</td>\n",
       "      <td>0</td>\n",
       "      <td>0</td>\n",
       "      <td>0</td>\n",
       "      <td>0</td>\n",
       "      <td>0</td>\n",
       "      <td>0</td>\n",
       "      <td>0</td>\n",
       "      <td>0</td>\n",
       "    </tr>\n",
       "    <tr>\n",
       "      <th>6</th>\n",
       "      <td>1.0</td>\n",
       "      <td>1</td>\n",
       "      <td>2016-06-29 17:56:12</td>\n",
       "      <td>Historic conversion in Greenpoint with awesome...</td>\n",
       "      <td>100 Dupont St, Brooklyn, NY 11222</td>\n",
       "      <td>40.7358</td>\n",
       "      <td>-73.9560</td>\n",
       "      <td>2648</td>\n",
       "      <td>100 Dupont St</td>\n",
       "      <td>low</td>\n",
       "      <td>...</td>\n",
       "      <td>0</td>\n",
       "      <td>0</td>\n",
       "      <td>0</td>\n",
       "      <td>0</td>\n",
       "      <td>0</td>\n",
       "      <td>0</td>\n",
       "      <td>0</td>\n",
       "      <td>0</td>\n",
       "      <td>0</td>\n",
       "      <td>0</td>\n",
       "    </tr>\n",
       "    <tr>\n",
       "      <th>6</th>\n",
       "      <td>1.0</td>\n",
       "      <td>1</td>\n",
       "      <td>2016-06-29 18:14:48</td>\n",
       "      <td>Large, sunny one bedroom apartment with a sepa...</td>\n",
       "      <td>West 45th St. and 8th Ave.</td>\n",
       "      <td>40.7597</td>\n",
       "      <td>-73.9890</td>\n",
       "      <td>2650</td>\n",
       "      <td>305 West 45th St.</td>\n",
       "      <td>low</td>\n",
       "      <td>...</td>\n",
       "      <td>0</td>\n",
       "      <td>0</td>\n",
       "      <td>0</td>\n",
       "      <td>0</td>\n",
       "      <td>0</td>\n",
       "      <td>0</td>\n",
       "      <td>0</td>\n",
       "      <td>0</td>\n",
       "      <td>0</td>\n",
       "      <td>0</td>\n",
       "    </tr>\n",
       "    <tr>\n",
       "      <th>6</th>\n",
       "      <td>1.0</td>\n",
       "      <td>3</td>\n",
       "      <td>2016-06-29 18:30:41</td>\n",
       "      <td>LOOK NO FURTHER!!\\r\\rMassive three bedroom apa...</td>\n",
       "      <td>williamsburg</td>\n",
       "      <td>40.7156</td>\n",
       "      <td>-73.9540</td>\n",
       "      <td>3200</td>\n",
       "      <td>32 Havemeyer Street</td>\n",
       "      <td>medium</td>\n",
       "      <td>...</td>\n",
       "      <td>0</td>\n",
       "      <td>0</td>\n",
       "      <td>0</td>\n",
       "      <td>0</td>\n",
       "      <td>0</td>\n",
       "      <td>0</td>\n",
       "      <td>0</td>\n",
       "      <td>0</td>\n",
       "      <td>0</td>\n",
       "      <td>0</td>\n",
       "    </tr>\n",
       "    <tr>\n",
       "      <th>6</th>\n",
       "      <td>1.0</td>\n",
       "      <td>3</td>\n",
       "      <td>2016-06-29 21:41:47</td>\n",
       "      <td>LOOK NO FURTHER!!\\r\\rMassive three bedroom apa...</td>\n",
       "      <td>williamsburg</td>\n",
       "      <td>40.7156</td>\n",
       "      <td>-73.9540</td>\n",
       "      <td>3399</td>\n",
       "      <td>32 Havemeyer Street</td>\n",
       "      <td>medium</td>\n",
       "      <td>...</td>\n",
       "      <td>0</td>\n",
       "      <td>0</td>\n",
       "      <td>0</td>\n",
       "      <td>0</td>\n",
       "      <td>0</td>\n",
       "      <td>0</td>\n",
       "      <td>0</td>\n",
       "      <td>0</td>\n",
       "      <td>0</td>\n",
       "      <td>0</td>\n",
       "    </tr>\n",
       "  </tbody>\n",
       "</table>\n",
       "<p>5 rows × 34 columns</p>\n",
       "</div>"
      ],
      "text/plain": [
       "       bathrooms  bedrooms             created  \\\n",
       "month                                            \n",
       "6            1.0         2 2016-06-29 17:47:34   \n",
       "6            1.0         1 2016-06-29 17:56:12   \n",
       "6            1.0         1 2016-06-29 18:14:48   \n",
       "6            1.0         3 2016-06-29 18:30:41   \n",
       "6            1.0         3 2016-06-29 21:41:47   \n",
       "\n",
       "                                             description  \\\n",
       "month                                                      \n",
       "6      Newly renovated, clean, quiet & very bright  2...   \n",
       "6      Historic conversion in Greenpoint with awesome...   \n",
       "6      Large, sunny one bedroom apartment with a sepa...   \n",
       "6      LOOK NO FURTHER!!\\r\\rMassive three bedroom apa...   \n",
       "6      LOOK NO FURTHER!!\\r\\rMassive three bedroom apa...   \n",
       "\n",
       "                         display_address  latitude  longitude  price  \\\n",
       "month                                                                  \n",
       "6                        At Thompson St    40.7261   -74.0014   3045   \n",
       "6      100 Dupont St, Brooklyn, NY 11222   40.7358   -73.9560   2648   \n",
       "6             West 45th St. and 8th Ave.   40.7597   -73.9890   2650   \n",
       "6                           williamsburg   40.7156   -73.9540   3200   \n",
       "6                           williamsburg   40.7156   -73.9540   3399   \n",
       "\n",
       "             street_address interest_level  ...  high_speed_internet  balcony  \\\n",
       "month                                       ...                                 \n",
       "6       132 Thompson St #20         medium  ...                    0        0   \n",
       "6             100 Dupont St            low  ...                    0        0   \n",
       "6         305 West 45th St.            low  ...                    0        0   \n",
       "6       32 Havemeyer Street         medium  ...                    0        0   \n",
       "6      32 Havemeyer Street          medium  ...                    0        0   \n",
       "\n",
       "       swimming_pool  new_construction  terrace  exclusive  loft  \\\n",
       "month                                                              \n",
       "6                  0                 0        0          0     0   \n",
       "6                  0                 0        0          0     0   \n",
       "6                  0                 0        0          0     0   \n",
       "6                  0                 0        0          0     0   \n",
       "6                  0                 0        0          0     0   \n",
       "\n",
       "       garden_patio  wheelchair_access  common_outdoor_space  \n",
       "month                                                         \n",
       "6                 0                  0                     0  \n",
       "6                 0                  0                     0  \n",
       "6                 0                  0                     0  \n",
       "6                 0                  0                     0  \n",
       "6                 0                  0                     0  \n",
       "\n",
       "[5 rows x 34 columns]"
      ]
     },
     "execution_count": 120,
     "metadata": {},
     "output_type": "execute_result"
    }
   ],
   "source": [
    "import pandas as pd\n",
    "import numpy as np\n",
    "df = wrangle(filepath)\n",
    "print(df.shape)\n",
    "print(df.info())\n",
    "print(df.head())\n",
    "df.tail()"
   ]
  },
  {
   "cell_type": "markdown",
   "metadata": {},
   "source": [
    "**Task 2:** Using your `pandas` and dataviz skills decide on two features that you want to engineer for your dataset. Next, modify your `wrangle` function to add those features. \n",
    "\n",
    "**Note:** You can learn more about feature engineering [here](https://en.wikipedia.org/wiki/Feature_engineering). Here are some ideas for new features:\n",
    "\n",
    "- Does the apartment have a description?\n",
    "- Length of description.\n",
    "- Total number of perks that apartment has.\n",
    "- Are cats _or_ dogs allowed?\n",
    "- Are cats _and_ dogs allowed?\n",
    "- Total number of rooms (beds + baths)."
   ]
  },
  {
   "cell_type": "code",
   "execution_count": 121,
   "metadata": {},
   "outputs": [
    {
     "data": {
      "text/plain": [
       "<matplotlib.collections.PathCollection at 0x13b9797f0>"
      ]
     },
     "execution_count": 121,
     "metadata": {},
     "output_type": "execute_result"
    },
    {
     "data": {
      "image/png": "[encoded data removed]",
      "text/plain": [
       "<Figure size 432x288 with 1 Axes>"
      ]
     },
     "metadata": {
      "needs_background": "light"
     },
     "output_type": "display_data"
    }
   ],
   "source": [
    "# Conduct your exploratory data analysis here, \n",
    "# and then modify the function above.\n",
    "import matplotlib.pyplot as plt\n",
    "plt.scatter(df['bathrooms'], df['price'])\n",
    "plt.scatter(df['bedrooms'], df['price'])"
   ]
  },
  {
   "cell_type": "markdown",
   "metadata": {},
   "source": [
    "# II. Split Data\n",
    "\n",
    "**Task 3:** Split your DataFrame `df` into a feature matrix `X` and the target vector `y`. You want to predict `'price'`.\n",
    "\n",
    "**Note:** In contrast to the last module project, this time you should include _all_ the numerical features in your dataset."
   ]
  },
  {
   "cell_type": "code",
   "execution_count": 122,
   "metadata": {},
   "outputs": [],
   "source": [
    "X = df[['bedrooms', 'bathrooms']]\n",
    "y = df['price']"
   ]
  },
  {
   "cell_type": "markdown",
   "metadata": {},
   "source": [
    "**Task 4:** Split `X` and `y` into a training set (`X_train`, `y_train`) and a test set (`X_test`, `y_test`).\n",
    "\n",
    "- Your training set should include data from April and May 2016. \n",
    "- Your test set should include data from June 2016."
   ]
  },
  {
   "cell_type": "code",
   "execution_count": 123,
   "metadata": {},
   "outputs": [],
   "source": [
    "cutoff = 6\n",
    "mask = X.index < cutoff\n",
    "\n",
    "X_train, y_train = X.loc[mask], y.loc[mask]\n",
    "X_test, y_test = X.loc[~mask], y.loc[~mask]"
   ]
  },
  {
   "cell_type": "markdown",
   "metadata": {},
   "source": [
    "# III. Establish Baseline"
   ]
  },
  {
   "cell_type": "markdown",
   "metadata": {},
   "source": [
    "**Task 5:** Since this is a **regression** problem, you need to calculate the baseline mean absolute error for your model. First, calculate the mean of `y_train`. Next, create a list `y_pred` that has the same length as `y_train` and where every item in the list is the mean. Finally, use `mean_absolute_error` to calculate your baseline."
   ]
  },
  {
   "cell_type": "code",
   "execution_count": 125,
   "metadata": {},
   "outputs": [
    {
     "name": "stdout",
     "output_type": "stream",
     "text": [
      "Baseline MAE: 1202.3983007818476\n"
     ]
    }
   ],
   "source": [
    "from sklearn.metrics import mean_absolute_error\n",
    "y_pred = [y_train.mean()] * len(y_train)\n",
    "baseline_mae = mean_absolute_error(y_train,y_pred)\n",
    "print('Baseline MAE:', baseline_mae)"
   ]
  },
  {
   "cell_type": "markdown",
   "metadata": {},
   "source": [
    "# IV. Build Model\n",
    "\n",
    "**Task 6:** Build and train a `LinearRegression` model named `model` using your feature matrix `X_train` and your target vector `y_train`."
   ]
  },
  {
   "cell_type": "code",
   "execution_count": 126,
   "metadata": {},
   "outputs": [
    {
     "data": {
      "text/plain": [
       "LinearRegression()"
      ]
     },
     "execution_count": 126,
     "metadata": {},
     "output_type": "execute_result"
    }
   ],
   "source": [
    "# Step 1: Import predictor class\n",
    "from sklearn.linear_model import LinearRegression\n",
    "\n",
    "# Step 2: Instantiate predictor\n",
    "model = LinearRegression()\n",
    "\n",
    "# Step 3: Fit predictor on the (training) data\n",
    "model.fit(X_train, y_train)"
   ]
  },
  {
   "cell_type": "markdown",
   "metadata": {},
   "source": [
    "# V. Check Metrics\n",
    "\n",
    "**Task 7:** Calculate the training and test mean absolute error for your model."
   ]
  },
  {
   "cell_type": "code",
   "execution_count": 127,
   "metadata": {},
   "outputs": [
    {
     "name": "stdout",
     "output_type": "stream",
     "text": [
      "Training MAE: 815.2251425254885\n",
      "Test MAE: 823.1308043209864\n"
     ]
    }
   ],
   "source": [
    "training_mae = mean_absolute_error(y_train,model.predict(X_train))\n",
    "test_mae = mean_absolute_error(y_test,model.predict(X_test))\n",
    "\n",
    "print('Training MAE:', training_mae)\n",
    "print('Test MAE:', test_mae)"
   ]
  },
  {
   "cell_type": "markdown",
   "metadata": {},
   "source": [
    "**Task 8:** Calculate the training and test $R^2$ score for your model."
   ]
  },
  {
   "cell_type": "code",
   "execution_count": 128,
   "metadata": {},
   "outputs": [
    {
     "name": "stdout",
     "output_type": "stream",
     "text": [
      "Training MAE: 0.511857964961526\n",
      "Test MAE: 0.5236070636808525\n"
     ]
    }
   ],
   "source": [
    "from sklearn.metrics import r2_score\n",
    "\n",
    "training_r2 = r2_score(y_train, model.predict(X_train))\n",
    "test_r2 = r2_score(y_test, model.predict(X_test))\n",
    "\n",
    "print('Training MAE:', training_r2)\n",
    "print('Test MAE:', test_r2)"
   ]
  },
  {
   "cell_type": "markdown",
   "metadata": {},
   "source": [
    "# VI. Communicate Results\n",
    "\n",
    "**Stretch Goal:** What are the three most influential coefficients in your linear model? You should consider the _absolute value_ of each coefficient, so that it doesn't matter if it's positive or negative."
   ]
  },
  {
   "cell_type": "code",
   "execution_count": null,
   "metadata": {},
   "outputs": [],
   "source": []
  }
 ],
 "metadata": {
  "colab": {
   "collapsed_sections": [],
   "name": "LS_DS_212_solution.ipynb",
   "provenance": []
  },
  "kernelspec": {
   "display_name": "Python 3 (ipykernel)",
   "language": "python",
   "name": "python3"
  },
  "language_info": {
   "codemirror_mode": {
    "name": "ipython",
    "version": 3
   },
   "file_extension": ".py",
   "mimetype": "text/x-python",
   "name": "python",
   "nbconvert_exporter": "python",
   "pygments_lexer": "ipython3",
   "version": "3.8.5"
  }
 },
 "nbformat": 4,
 "nbformat_minor": 1
}
