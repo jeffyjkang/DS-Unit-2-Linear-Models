{
 "cells": [
  {
   "cell_type": "code",
   "execution_count": 36,
   "metadata": {
    "id": "k0dvbuCzd5qK"
   },
   "outputs": [],
   "source": [
    "# Model Building\n",
    "from sklearn.feature_selection import SelectKBest, f_regression\n",
    "from sklearn.linear_model import LinearRegression, Ridge\n",
    "from sklearn.metrics import mean_absolute_error, mean_squared_error\n",
    "from sklearn.pipeline import make_pipeline\n",
    "from sklearn.preprocessing import StandardScaler\n",
    "import numpy as np\n",
    "import matplotlib.pyplot as plt\n",
    "import pandas as pd\n",
    "\n",
    "# For running this notebook either locally or in colab\n",
    "import sys"
   ]
  },
  {
   "cell_type": "code",
   "execution_count": 2,
   "metadata": {
    "id": "wz7tyC22gLEA"
   },
   "outputs": [],
   "source": [
    "%%capture\n",
    "# If you're on Colab:\n",
    "if 'google.colab' in sys.modules:\n",
    "    DATA_PATH = 'https://raw.githubusercontent.com/LambdaSchool/DS-Unit-2-Applied-Modeling/master/data/'\n",
    "    !pip install category_encoders==2.*\n",
    "\n",
    "# If you're working locally:\n",
    "else:\n",
    "    DATA_PATH = '../data/'"
   ]
  },
  {
   "cell_type": "code",
   "execution_count": 3,
   "metadata": {
    "id": "eK1JmTLj8wFC"
   },
   "outputs": [],
   "source": [
    "# For encoding categorical data\n",
    "from category_encoders import OneHotEncoder"
   ]
  },
  {
   "cell_type": "markdown",
   "metadata": {
    "id": "c9XvBGFMguJ1"
   },
   "source": [
    "# NYC Rent\n",
    "\n",
    "**GOAL:** Improve our model for predicting NYC rent prices.\n",
    "\n",
    "**Objectives**\n",
    "\n",
    "- Do one-hot encoding of categorical features\n",
    "- Do univariate feature selection\n",
    "- Use scikit-learn to fit Ridge Regression models"
   ]
  },
  {
   "cell_type": "markdown",
   "metadata": {
    "id": "0kaV7oNahJLj"
   },
   "source": [
    "# I. Wrangle Data"
   ]
  },
  {
   "cell_type": "markdown",
   "metadata": {
    "id": "iOecYDRyx5m-"
   },
   "source": [
    "Create **wrangle function** for **reproducibility**."
   ]
  },
  {
   "cell_type": "code",
   "execution_count": 4,
   "metadata": {
    "id": "m9Dm3h3Ux5AI"
   },
   "outputs": [
    {
     "name": "stdout",
     "output_type": "stream",
     "text": [
      "(48817, 30)\n",
      "<class 'pandas.core.frame.DataFrame'>\n",
      "DatetimeIndex: 48817 entries, 2016-06-24 07:54:24 to 2016-04-12 02:48:07\n",
      "Data columns (total 30 columns):\n",
      " #   Column                Non-Null Count  Dtype  \n",
      "---  ------                --------------  -----  \n",
      " 0   bathrooms             48817 non-null  float64\n",
      " 1   bedrooms              48817 non-null  int64  \n",
      " 2   latitude              48817 non-null  float64\n",
      " 3   longitude             48817 non-null  float64\n",
      " 4   price                 48817 non-null  int64  \n",
      " 5   interest_level        48817 non-null  object \n",
      " 6   elevator              48817 non-null  int64  \n",
      " 7   cats_allowed          48817 non-null  int64  \n",
      " 8   hardwood_floors       48817 non-null  int64  \n",
      " 9   dogs_allowed          48817 non-null  int64  \n",
      " 10  doorman               48817 non-null  int64  \n",
      " 11  dishwasher            48817 non-null  int64  \n",
      " 12  no_fee                48817 non-null  int64  \n",
      " 13  laundry_in_building   48817 non-null  int64  \n",
      " 14  fitness_center        48817 non-null  int64  \n",
      " 15  pre-war               48817 non-null  int64  \n",
      " 16  laundry_in_unit       48817 non-null  int64  \n",
      " 17  roof_deck             48817 non-null  int64  \n",
      " 18  outdoor_space         48817 non-null  int64  \n",
      " 19  dining_room           48817 non-null  int64  \n",
      " 20  high_speed_internet   48817 non-null  int64  \n",
      " 21  balcony               48817 non-null  int64  \n",
      " 22  swimming_pool         48817 non-null  int64  \n",
      " 23  new_construction      48817 non-null  int64  \n",
      " 24  terrace               48817 non-null  int64  \n",
      " 25  exclusive             48817 non-null  int64  \n",
      " 26  loft                  48817 non-null  int64  \n",
      " 27  garden_patio          48817 non-null  int64  \n",
      " 28  wheelchair_access     48817 non-null  int64  \n",
      " 29  common_outdoor_space  48817 non-null  int64  \n",
      "dtypes: float64(3), int64(26), object(1)\n",
      "memory usage: 11.5+ MB\n",
      "None\n"
     ]
    },
    {
     "data": {
      "text/html": [
       "<div>\n",
       "<style scoped>\n",
       "    .dataframe tbody tr th:only-of-type {\n",
       "        vertical-align: middle;\n",
       "    }\n",
       "\n",
       "    .dataframe tbody tr th {\n",
       "        vertical-align: top;\n",
       "    }\n",
       "\n",
       "    .dataframe thead th {\n",
       "        text-align: right;\n",
       "    }\n",
       "</style>\n",
       "<table border=\"1\" class=\"dataframe\">\n",
       "  <thead>\n",
       "    <tr style=\"text-align: right;\">\n",
       "      <th></th>\n",
       "      <th>bathrooms</th>\n",
       "      <th>bedrooms</th>\n",
       "      <th>latitude</th>\n",
       "      <th>longitude</th>\n",
       "      <th>price</th>\n",
       "      <th>interest_level</th>\n",
       "      <th>elevator</th>\n",
       "      <th>cats_allowed</th>\n",
       "      <th>hardwood_floors</th>\n",
       "      <th>dogs_allowed</th>\n",
       "      <th>...</th>\n",
       "      <th>high_speed_internet</th>\n",
       "      <th>balcony</th>\n",
       "      <th>swimming_pool</th>\n",
       "      <th>new_construction</th>\n",
       "      <th>terrace</th>\n",
       "      <th>exclusive</th>\n",
       "      <th>loft</th>\n",
       "      <th>garden_patio</th>\n",
       "      <th>wheelchair_access</th>\n",
       "      <th>common_outdoor_space</th>\n",
       "    </tr>\n",
       "    <tr>\n",
       "      <th>created</th>\n",
       "      <th></th>\n",
       "      <th></th>\n",
       "      <th></th>\n",
       "      <th></th>\n",
       "      <th></th>\n",
       "      <th></th>\n",
       "      <th></th>\n",
       "      <th></th>\n",
       "      <th></th>\n",
       "      <th></th>\n",
       "      <th></th>\n",
       "      <th></th>\n",
       "      <th></th>\n",
       "      <th></th>\n",
       "      <th></th>\n",
       "      <th></th>\n",
       "      <th></th>\n",
       "      <th></th>\n",
       "      <th></th>\n",
       "      <th></th>\n",
       "      <th></th>\n",
       "    </tr>\n",
       "  </thead>\n",
       "  <tbody>\n",
       "    <tr>\n",
       "      <th>2016-06-24 07:54:24</th>\n",
       "      <td>1.5</td>\n",
       "      <td>3</td>\n",
       "      <td>40.7145</td>\n",
       "      <td>-73.9425</td>\n",
       "      <td>3000</td>\n",
       "      <td>medium</td>\n",
       "      <td>0</td>\n",
       "      <td>0</td>\n",
       "      <td>0</td>\n",
       "      <td>0</td>\n",
       "      <td>...</td>\n",
       "      <td>0</td>\n",
       "      <td>0</td>\n",
       "      <td>0</td>\n",
       "      <td>0</td>\n",
       "      <td>0</td>\n",
       "      <td>0</td>\n",
       "      <td>0</td>\n",
       "      <td>0</td>\n",
       "      <td>0</td>\n",
       "      <td>0</td>\n",
       "    </tr>\n",
       "    <tr>\n",
       "      <th>2016-06-12 12:19:27</th>\n",
       "      <td>1.0</td>\n",
       "      <td>2</td>\n",
       "      <td>40.7947</td>\n",
       "      <td>-73.9667</td>\n",
       "      <td>5465</td>\n",
       "      <td>low</td>\n",
       "      <td>1</td>\n",
       "      <td>1</td>\n",
       "      <td>0</td>\n",
       "      <td>1</td>\n",
       "      <td>...</td>\n",
       "      <td>0</td>\n",
       "      <td>0</td>\n",
       "      <td>0</td>\n",
       "      <td>0</td>\n",
       "      <td>0</td>\n",
       "      <td>0</td>\n",
       "      <td>0</td>\n",
       "      <td>0</td>\n",
       "      <td>0</td>\n",
       "      <td>0</td>\n",
       "    </tr>\n",
       "    <tr>\n",
       "      <th>2016-04-17 03:26:41</th>\n",
       "      <td>1.0</td>\n",
       "      <td>1</td>\n",
       "      <td>40.7388</td>\n",
       "      <td>-74.0018</td>\n",
       "      <td>2850</td>\n",
       "      <td>high</td>\n",
       "      <td>0</td>\n",
       "      <td>0</td>\n",
       "      <td>1</td>\n",
       "      <td>0</td>\n",
       "      <td>...</td>\n",
       "      <td>0</td>\n",
       "      <td>0</td>\n",
       "      <td>0</td>\n",
       "      <td>0</td>\n",
       "      <td>0</td>\n",
       "      <td>0</td>\n",
       "      <td>0</td>\n",
       "      <td>0</td>\n",
       "      <td>0</td>\n",
       "      <td>0</td>\n",
       "    </tr>\n",
       "    <tr>\n",
       "      <th>2016-04-18 02:22:02</th>\n",
       "      <td>1.0</td>\n",
       "      <td>1</td>\n",
       "      <td>40.7539</td>\n",
       "      <td>-73.9677</td>\n",
       "      <td>3275</td>\n",
       "      <td>low</td>\n",
       "      <td>0</td>\n",
       "      <td>0</td>\n",
       "      <td>1</td>\n",
       "      <td>0</td>\n",
       "      <td>...</td>\n",
       "      <td>0</td>\n",
       "      <td>0</td>\n",
       "      <td>0</td>\n",
       "      <td>0</td>\n",
       "      <td>0</td>\n",
       "      <td>0</td>\n",
       "      <td>0</td>\n",
       "      <td>0</td>\n",
       "      <td>0</td>\n",
       "      <td>0</td>\n",
       "    </tr>\n",
       "    <tr>\n",
       "      <th>2016-04-28 01:32:41</th>\n",
       "      <td>1.0</td>\n",
       "      <td>4</td>\n",
       "      <td>40.8241</td>\n",
       "      <td>-73.9493</td>\n",
       "      <td>3350</td>\n",
       "      <td>low</td>\n",
       "      <td>0</td>\n",
       "      <td>0</td>\n",
       "      <td>0</td>\n",
       "      <td>0</td>\n",
       "      <td>...</td>\n",
       "      <td>0</td>\n",
       "      <td>0</td>\n",
       "      <td>0</td>\n",
       "      <td>0</td>\n",
       "      <td>0</td>\n",
       "      <td>0</td>\n",
       "      <td>0</td>\n",
       "      <td>0</td>\n",
       "      <td>0</td>\n",
       "      <td>0</td>\n",
       "    </tr>\n",
       "  </tbody>\n",
       "</table>\n",
       "<p>5 rows × 30 columns</p>\n",
       "</div>"
      ],
      "text/plain": [
       "                     bathrooms  bedrooms  latitude  longitude  price  \\\n",
       "created                                                                \n",
       "2016-06-24 07:54:24        1.5         3   40.7145   -73.9425   3000   \n",
       "2016-06-12 12:19:27        1.0         2   40.7947   -73.9667   5465   \n",
       "2016-04-17 03:26:41        1.0         1   40.7388   -74.0018   2850   \n",
       "2016-04-18 02:22:02        1.0         1   40.7539   -73.9677   3275   \n",
       "2016-04-28 01:32:41        1.0         4   40.8241   -73.9493   3350   \n",
       "\n",
       "                    interest_level  elevator  cats_allowed  hardwood_floors  \\\n",
       "created                                                                       \n",
       "2016-06-24 07:54:24         medium         0             0                0   \n",
       "2016-06-12 12:19:27            low         1             1                0   \n",
       "2016-04-17 03:26:41           high         0             0                1   \n",
       "2016-04-18 02:22:02            low         0             0                1   \n",
       "2016-04-28 01:32:41            low         0             0                0   \n",
       "\n",
       "                     dogs_allowed  ...  high_speed_internet  balcony  \\\n",
       "created                            ...                                 \n",
       "2016-06-24 07:54:24             0  ...                    0        0   \n",
       "2016-06-12 12:19:27             1  ...                    0        0   \n",
       "2016-04-17 03:26:41             0  ...                    0        0   \n",
       "2016-04-18 02:22:02             0  ...                    0        0   \n",
       "2016-04-28 01:32:41             0  ...                    0        0   \n",
       "\n",
       "                     swimming_pool  new_construction  terrace  exclusive  \\\n",
       "created                                                                    \n",
       "2016-06-24 07:54:24              0                 0        0          0   \n",
       "2016-06-12 12:19:27              0                 0        0          0   \n",
       "2016-04-17 03:26:41              0                 0        0          0   \n",
       "2016-04-18 02:22:02              0                 0        0          0   \n",
       "2016-04-28 01:32:41              0                 0        0          0   \n",
       "\n",
       "                     loft  garden_patio  wheelchair_access  \\\n",
       "created                                                      \n",
       "2016-06-24 07:54:24     0             0                  0   \n",
       "2016-06-12 12:19:27     0             0                  0   \n",
       "2016-04-17 03:26:41     0             0                  0   \n",
       "2016-04-18 02:22:02     0             0                  0   \n",
       "2016-04-28 01:32:41     0             0                  0   \n",
       "\n",
       "                     common_outdoor_space  \n",
       "created                                    \n",
       "2016-06-24 07:54:24                     0  \n",
       "2016-06-12 12:19:27                     0  \n",
       "2016-04-17 03:26:41                     0  \n",
       "2016-04-18 02:22:02                     0  \n",
       "2016-04-28 01:32:41                     0  \n",
       "\n",
       "[5 rows x 30 columns]"
      ]
     },
     "execution_count": 4,
     "metadata": {},
     "output_type": "execute_result"
    }
   ],
   "source": [
    "def wrangle(filepath):\n",
    "  df = pd.read_csv(\n",
    "      filepath,\n",
    "      parse_dates=['created'],\n",
    "      index_col='created'\n",
    "  )\n",
    "  \n",
    "  # Remove outlier observations\n",
    "  df = df[(df['price'] >= np.percentile(df['price'], 0.5)) & \n",
    "          (df['price'] <= np.percentile(df['price'], 99.5)) & \n",
    "          (df['latitude'] >= np.percentile(df['latitude'], 0.05)) & \n",
    "          (df['latitude'] < np.percentile(df['latitude'], 99.95)) &\n",
    "          (df['longitude'] >= np.percentile(df['longitude'], 0.05)) & \n",
    "          (df['longitude'] <= np.percentile(df['longitude'], 99.95))]\n",
    "  # df.drop(columns=['description', 'display_address', 'street_address'], inplace=True)\n",
    "  drop_cols = [col for col in df.select_dtypes('object') if df[col].nunique() > 10]\n",
    "  df.drop(columns=drop_cols, inplace=True)\n",
    "  return df\n",
    "\n",
    "df = wrangle(DATA_PATH+'apartments/renthop-nyc.csv')\n",
    "print(df.shape)\n",
    "print(df.info())\n",
    "df.head()"
   ]
  },
  {
   "cell_type": "markdown",
   "metadata": {
    "id": "Fr-x5LJo0pRc"
   },
   "source": [
    "# II. Split Data\n",
    "\n",
    "Split **target vector** from **feature matrix**."
   ]
  },
  {
   "cell_type": "code",
   "execution_count": 5,
   "metadata": {
    "id": "r2TXo5xLo662"
   },
   "outputs": [],
   "source": [
    "target = 'price'\n",
    "y = df[target]\n",
    "X = df.drop(columns=target)"
   ]
  },
  {
   "cell_type": "markdown",
   "metadata": {
    "id": "ZMoRDMuT7A7q"
   },
   "source": [
    "Split data into **training** and **test** sets.\n",
    "\n",
    "(Use data from April & May 2016 to train. Use data from June 2016 to test.)"
   ]
  },
  {
   "cell_type": "code",
   "execution_count": 6,
   "metadata": {
    "id": "7w92aZ7co9CA"
   },
   "outputs": [],
   "source": [
    "cutoff = '2016-06-01'\n",
    "mask = X.index < cutoff\n",
    "\n",
    "X_train, y_train = X.loc[mask], y.loc[mask]\n",
    "X_test, y_test = X.loc[~mask], y.loc[~mask]"
   ]
  },
  {
   "cell_type": "markdown",
   "metadata": {
    "id": "-x9lFKmupRWk"
   },
   "source": [
    "# III. Establish Baseline"
   ]
  },
  {
   "cell_type": "markdown",
   "metadata": {
    "id": "d1BOKNBc7Jnf"
   },
   "source": [
    "**Note:** This is a **regression** problem because we're predictiong the continuous value `'price'`."
   ]
  },
  {
   "cell_type": "code",
   "execution_count": 7,
   "metadata": {
    "id": "-XNZHgf-7XQc"
   },
   "outputs": [
    {
     "name": "stdout",
     "output_type": "stream",
     "text": [
      "Baseline MAE:  1201.8811133682555\n"
     ]
    }
   ],
   "source": [
    "from sklearn.metrics import mean_absolute_error, mean_squared_error\n",
    "\n",
    "y_pred = [y_train.mean()] * len(y_train)\n",
    "print('Baseline MAE: ', mean_absolute_error(y_train, y_pred))"
   ]
  },
  {
   "cell_type": "markdown",
   "metadata": {
    "id": "Xea7aFidqPoV"
   },
   "source": [
    "# IV. Build Models"
   ]
  },
  {
   "cell_type": "markdown",
   "metadata": {
    "id": "TFc7aAwylBwv"
   },
   "source": [
    "**Question:** How can we represent *categorical* features numerically so that we can use them to train our model?"
   ]
  },
  {
   "cell_type": "code",
   "execution_count": null,
   "metadata": {
    "id": "IKwppXfWIH_K"
   },
   "outputs": [],
   "source": [
    "encode categorical features"
   ]
  },
  {
   "cell_type": "markdown",
   "metadata": {
    "id": "35SyuZhQQqNu"
   },
   "source": [
    "**Model 1:** Regular ol' linear regression"
   ]
  },
  {
   "cell_type": "code",
   "execution_count": null,
   "metadata": {
    "id": "OOsVETc19TXY"
   },
   "outputs": [],
   "source": [
    "# before we train our model, we need to encode our categorical features\n",
    "# for high-dimentional data, you have a few options. first is dimentionality reduction using SelectKBest."
   ]
  },
  {
   "cell_type": "markdown",
   "metadata": {
    "id": "gMjtQqeVQufl"
   },
   "source": [
    "**Model 2:** Ridge regression (regularization)"
   ]
  },
  {
   "cell_type": "markdown",
   "metadata": {
    "id": "ZRs-fAaeQt1e"
   },
   "source": [
    "Note: For our Ridge Model, we need the following steps\n",
    "1. OneHotEncoder (transformer)\n",
    "2. Ridge (predictor)"
   ]
  },
  {
   "cell_type": "code",
   "execution_count": 37,
   "metadata": {},
   "outputs": [
    {
     "data": {
      "text/plain": [
       "Pipeline(steps=[('onehotencoder',\n",
       "                 OneHotEncoder(cols=['interest_level'], use_cat_names=True)),\n",
       "                ('standardscaler', StandardScaler()), ('ridge', Ridge())])"
      ]
     },
     "execution_count": 37,
     "metadata": {},
     "output_type": "execute_result"
    }
   ],
   "source": [
    "model_r = make_pipeline(\n",
    "    OneHotEncoder(use_cat_names=True), # as many transformers as you want\n",
    "    StandardScaler(),\n",
    "    Ridge(alpha=1.0) # one predictor, last step in the pipeline\n",
    ")\n",
    "\n",
    "model_r.fit(X_train, y_train)"
   ]
  },
  {
   "cell_type": "markdown",
   "metadata": {
    "id": "J2N4D4VFSiks"
   },
   "source": [
    "**Model 3:** `SelectKBest`"
   ]
  },
  {
   "cell_type": "code",
   "execution_count": null,
   "metadata": {
    "id": "OiJ7pnJRSh-N"
   },
   "outputs": [],
   "source": [
    "model_lr_skb = ..."
   ]
  },
  {
   "cell_type": "code",
   "execution_count": 82,
   "metadata": {},
   "outputs": [
    {
     "name": "stdout",
     "output_type": "stream",
     "text": [
      "(31844, 25)\n",
      "<class 'numpy.ndarray'>\n"
     ]
    }
   ],
   "source": [
    "# # ordinal encoding low -> 1, med -> 2, high -> 3\n",
    "\n",
    "# # one hot encoding low 0/1, med 0/1, high 0/1\n",
    "\n",
    "# # step 1: import class\n",
    "# from sklearn.linear_model import LinearRegression, Ridge\n",
    "# # from sklearn.preprocessing import OneHotEncoder\n",
    "# from category_encoders import OneHotEncoder\n",
    "# from sklearn.feature_selection import SelectKBest\n",
    "\n",
    "# # step 2: instantiate predictor\n",
    "# transformer_1 = OneHotEncoder(use_cat_names=True)\n",
    "# transformer_2 = SelectKBest(k=25) # k is a hyperparameter\n",
    "# # model = LinearRegression()\n",
    "\n",
    "# # step 3: fit model on training data\n",
    "# # NEVER refit your transformer when transforming your test data\n",
    "# # model.fit(X_train, y_train)\n",
    "# transformer_1.fit(X_train)\n",
    "# # step 4: transform the data\n",
    "# XT_train = transformer_1.transform(X_train)\n",
    "# XT_test = transformer_1.transform(X_test)\n",
    "\n",
    "# transformer_2.fit(XT_train, y_train)\n",
    "# XTT_train = transformer_2.transform(XT_train)\n",
    "# XTT_test = transformer_2.transform(XT_test)\n",
    "\n",
    "# model = LinearRegression()\n",
    "# model.fit(XTT_train, y_train)\n",
    "\n",
    "# model_r = Ridge()\n",
    "# model_r.fit(XT_train, y_train) # this is the OHE data w/ no SelectKBest\n",
    "\n",
    "# print(XTT_train.shape)\n",
    "# print(type(XTT_train))\n",
    "# # print(XT_train.shape)\n",
    "# # print(XT_train.info())\n",
    "# XT_train.head()"
   ]
  },
  {
   "cell_type": "markdown",
   "metadata": {
    "id": "rHhIH6VE0iRH"
   },
   "source": [
    "# V. Check Metrics"
   ]
  },
  {
   "cell_type": "code",
   "execution_count": 16,
   "metadata": {
    "id": "hDj8LEUVOdGs"
   },
   "outputs": [],
   "source": [
    "# print('training MAE: ', mean_absolute_error(y_train, model.predict(XTT_train)))\n",
    "# print('test MAE: ', mean_absolute_error(y_test, model.predict(XTT_test)))"
   ]
  },
  {
   "cell_type": "code",
   "execution_count": 38,
   "metadata": {
    "id": "BXrqHj_lHPum"
   },
   "outputs": [
    {
     "name": "stdout",
     "output_type": "stream",
     "text": [
      "Ridge training MAE:  673.1536834062437\n",
      "Ridge test MAE:  676.1093724962014\n"
     ]
    }
   ],
   "source": [
    "print('Ridge training MAE: ', mean_absolute_error(y_train, model_r.predict(X_train)))\n",
    "print('Ridge test MAE: ', mean_absolute_error(y_test, model_r.predict(X_test)))"
   ]
  },
  {
   "cell_type": "code",
   "execution_count": null,
   "metadata": {
    "id": "ZJUhiKt7TrW5"
   },
   "outputs": [],
   "source": []
  },
  {
   "cell_type": "markdown",
   "metadata": {
    "id": "uI9K2OXDWThQ"
   },
   "source": [
    "# Communicate results"
   ]
  },
  {
   "cell_type": "code",
   "execution_count": 39,
   "metadata": {
    "id": "84xIPGtUBbsA"
   },
   "outputs": [
    {
     "name": "stdout",
     "output_type": "stream",
     "text": [
      "31\n"
     ]
    },
    {
     "data": {
      "text/plain": [
       "29"
      ]
     },
     "execution_count": 39,
     "metadata": {},
     "output_type": "execute_result"
    }
   ],
   "source": [
    "# step 1: get our coefficients\n",
    "# model_r.named_steps.keys()\n",
    "coefficients = model_r.named_steps['ridge'].coef_\n",
    "coefficients\n",
    "print(len(coefficients))\n",
    "len(X_train.columns)"
   ]
  },
  {
   "cell_type": "code",
   "execution_count": 26,
   "metadata": {
    "id": "RlAyipCNav1H"
   },
   "outputs": [
    {
     "name": "stdout",
     "output_type": "stream",
     "text": [
      "31\n"
     ]
    },
    {
     "data": {
      "text/plain": [
       "['bathrooms',\n",
       " 'bedrooms',\n",
       " 'latitude',\n",
       " 'longitude',\n",
       " 'interest_level_high',\n",
       " 'interest_level_low',\n",
       " 'interest_level_medium',\n",
       " 'elevator',\n",
       " 'cats_allowed',\n",
       " 'hardwood_floors',\n",
       " 'dogs_allowed',\n",
       " 'doorman',\n",
       " 'dishwasher',\n",
       " 'no_fee',\n",
       " 'laundry_in_building',\n",
       " 'fitness_center',\n",
       " 'pre-war',\n",
       " 'laundry_in_unit',\n",
       " 'roof_deck',\n",
       " 'outdoor_space',\n",
       " 'dining_room',\n",
       " 'high_speed_internet',\n",
       " 'balcony',\n",
       " 'swimming_pool',\n",
       " 'new_construction',\n",
       " 'terrace',\n",
       " 'exclusive',\n",
       " 'loft',\n",
       " 'garden_patio',\n",
       " 'wheelchair_access',\n",
       " 'common_outdoor_space']"
      ]
     },
     "execution_count": 26,
     "metadata": {},
     "output_type": "execute_result"
    }
   ],
   "source": [
    "# step 2: get feature names\n",
    "feat_names = model_r.named_steps['onehotencoder'].get_feature_names()\n",
    "# X_train.columns\n",
    "print(len(feat_names))\n",
    "feat_names"
   ]
  },
  {
   "cell_type": "code",
   "execution_count": 41,
   "metadata": {
    "id": "kGaaKSUXaeGo"
   },
   "outputs": [
    {
     "data": {
      "text/plain": [
       "Text(0.5, 0, 'Feature Importance [$, scaled]')"
      ]
     },
     "execution_count": 41,
     "metadata": {},
     "output_type": "execute_result"
    },
    {
     "data": {
      "image/png": "[encoded data removed]",
      "text/plain": [
       "<Figure size 432x288 with 1 Axes>"
      ]
     },
     "metadata": {
      "needs_background": "light"
     },
     "output_type": "display_data"
    }
   ],
   "source": [
    "import matplotlib.pyplot as plt\n",
    "pd.Series(coefficients, index=feat_names).sort_values(key=abs).tail(10).plot(kind='barh')\n",
    "plt.xlabel('Feature Importance [$, scaled]')"
   ]
  },
  {
   "cell_type": "code",
   "execution_count": null,
   "metadata": {},
   "outputs": [],
   "source": []
  }
 ],
 "metadata": {
  "colab": {
   "collapsed_sections": [],
   "name": "213-guided-project-notes.ipynb",
   "provenance": []
  },
  "kernelspec": {
   "display_name": "Python 3 (ipykernel)",
   "language": "python",
   "name": "python3"
  },
  "language_info": {
   "codemirror_mode": {
    "name": "ipython",
    "version": 3
   },
   "file_extension": ".py",
   "mimetype": "text/x-python",
   "name": "python",
   "nbconvert_exporter": "python",
   "pygments_lexer": "ipython3",
   "version": "3.8.5"
  }
 },
 "nbformat": 4,
 "nbformat_minor": 1
}
