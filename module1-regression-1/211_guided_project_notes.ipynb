{
 "cells": [
  {
   "cell_type": "markdown",
   "metadata": {
    "id": "CPzo2e6aFrjx"
   },
   "source": [
    "# Lambda School Data Science - Unit 2 Sprint 1 Module 1"
   ]
  },
  {
   "cell_type": "code",
   "execution_count": 9,
   "metadata": {
    "id": "XdKtS6Gi5jul"
   },
   "outputs": [],
   "source": [
    "import pandas as pd\n",
    "import matplotlib.pyplot as plt\n",
    "import numpy as np\n",
    "from sklearn.metrics import mean_absolute_error\n",
    "\n",
    "# wrangle data\n",
    "# split data\n",
    "# establish baseline\n",
    "# build model\n",
    "# check metrics\n",
    "# tune model\n",
    "# communicate results"
   ]
  },
  {
   "cell_type": "markdown",
   "metadata": {
    "id": "2EVx8r5HLa6f"
   },
   "source": [
    "# I. Wrangle Data"
   ]
  },
  {
   "cell_type": "code",
   "execution_count": 16,
   "metadata": {
    "id": "syxaPzCWqfTY"
   },
   "outputs": [
    {
     "name": "stdout",
     "output_type": "stream",
     "text": [
      "(90, 8)\n",
      "<class 'pandas.core.frame.DataFrame'>\n",
      "DatetimeIndex: 90 entries, 2019-01-03 to 2019-04-30\n",
      "Data columns (total 8 columns):\n",
      " #   Column                   Non-Null Count  Dtype  \n",
      "---  ------                   --------------  -----  \n",
      " 0   NEIGHBORHOOD             90 non-null     object \n",
      " 1   BUILDING_CLASS_CATEGORY  90 non-null     object \n",
      " 2   ADDRESS                  90 non-null     object \n",
      " 3   APARTMENT_NUMBER         90 non-null     object \n",
      " 4   ZIP_CODE                 90 non-null     int64  \n",
      " 5   GROSS_SQUARE_FEET        90 non-null     float64\n",
      " 6   YEAR_BUILT               90 non-null     int64  \n",
      " 7   SALE_PRICE               90 non-null     int64  \n",
      "dtypes: float64(1), int64(3), object(4)\n",
      "memory usage: 6.3+ KB\n",
      "None\n"
     ]
    },
    {
     "data": {
      "text/html": [
       "<div>\n",
       "<style scoped>\n",
       "    .dataframe tbody tr th:only-of-type {\n",
       "        vertical-align: middle;\n",
       "    }\n",
       "\n",
       "    .dataframe tbody tr th {\n",
       "        vertical-align: top;\n",
       "    }\n",
       "\n",
       "    .dataframe thead th {\n",
       "        text-align: right;\n",
       "    }\n",
       "</style>\n",
       "<table border=\"1\" class=\"dataframe\">\n",
       "  <thead>\n",
       "    <tr style=\"text-align: right;\">\n",
       "      <th></th>\n",
       "      <th>NEIGHBORHOOD</th>\n",
       "      <th>BUILDING_CLASS_CATEGORY</th>\n",
       "      <th>ADDRESS</th>\n",
       "      <th>APARTMENT_NUMBER</th>\n",
       "      <th>ZIP_CODE</th>\n",
       "      <th>GROSS_SQUARE_FEET</th>\n",
       "      <th>YEAR_BUILT</th>\n",
       "      <th>SALE_PRICE</th>\n",
       "    </tr>\n",
       "    <tr>\n",
       "      <th>SALE_DATE</th>\n",
       "      <th></th>\n",
       "      <th></th>\n",
       "      <th></th>\n",
       "      <th></th>\n",
       "      <th></th>\n",
       "      <th></th>\n",
       "      <th></th>\n",
       "      <th></th>\n",
       "    </tr>\n",
       "  </thead>\n",
       "  <tbody>\n",
       "    <tr>\n",
       "      <th>2019-01-03</th>\n",
       "      <td>TRIBECA</td>\n",
       "      <td>13 CONDOS - ELEVATOR APARTMENTS</td>\n",
       "      <td>181 HUDSON STREET, 6D</td>\n",
       "      <td>6D</td>\n",
       "      <td>10013</td>\n",
       "      <td>1840.0</td>\n",
       "      <td>1909</td>\n",
       "      <td>2800000</td>\n",
       "    </tr>\n",
       "    <tr>\n",
       "      <th>2019-01-07</th>\n",
       "      <td>TRIBECA</td>\n",
       "      <td>13 CONDOS - ELEVATOR APARTMENTS</td>\n",
       "      <td>10 LITTLE WEST STREET, 19A</td>\n",
       "      <td>19A</td>\n",
       "      <td>10004</td>\n",
       "      <td>1759.0</td>\n",
       "      <td>0</td>\n",
       "      <td>2650000</td>\n",
       "    </tr>\n",
       "    <tr>\n",
       "      <th>2019-01-09</th>\n",
       "      <td>TRIBECA</td>\n",
       "      <td>13 CONDOS - ELEVATOR APARTMENTS</td>\n",
       "      <td>30 LITTLE WEST STREET, 7G</td>\n",
       "      <td>7G</td>\n",
       "      <td>10004</td>\n",
       "      <td>1190.0</td>\n",
       "      <td>2005</td>\n",
       "      <td>1005000</td>\n",
       "    </tr>\n",
       "    <tr>\n",
       "      <th>2019-01-10</th>\n",
       "      <td>TRIBECA</td>\n",
       "      <td>13 CONDOS - ELEVATOR APARTMENTS</td>\n",
       "      <td>2 RIVER TERRACE, 4C</td>\n",
       "      <td>4C</td>\n",
       "      <td>0</td>\n",
       "      <td>1088.0</td>\n",
       "      <td>2006</td>\n",
       "      <td>1678000</td>\n",
       "    </tr>\n",
       "    <tr>\n",
       "      <th>2019-01-11</th>\n",
       "      <td>TRIBECA</td>\n",
       "      <td>13 CONDOS - ELEVATOR APARTMENTS</td>\n",
       "      <td>380 RECTOR PLACE, 10A</td>\n",
       "      <td>10A</td>\n",
       "      <td>10280</td>\n",
       "      <td>873.0</td>\n",
       "      <td>0</td>\n",
       "      <td>1380000</td>\n",
       "    </tr>\n",
       "  </tbody>\n",
       "</table>\n",
       "</div>"
      ],
      "text/plain": [
       "           NEIGHBORHOOD          BUILDING_CLASS_CATEGORY  \\\n",
       "SALE_DATE                                                  \n",
       "2019-01-03      TRIBECA  13 CONDOS - ELEVATOR APARTMENTS   \n",
       "2019-01-07      TRIBECA  13 CONDOS - ELEVATOR APARTMENTS   \n",
       "2019-01-09      TRIBECA  13 CONDOS - ELEVATOR APARTMENTS   \n",
       "2019-01-10      TRIBECA  13 CONDOS - ELEVATOR APARTMENTS   \n",
       "2019-01-11      TRIBECA  13 CONDOS - ELEVATOR APARTMENTS   \n",
       "\n",
       "                               ADDRESS APARTMENT_NUMBER  ZIP_CODE  \\\n",
       "SALE_DATE                                                           \n",
       "2019-01-03       181 HUDSON STREET, 6D               6D     10013   \n",
       "2019-01-07  10 LITTLE WEST STREET, 19A              19A     10004   \n",
       "2019-01-09   30 LITTLE WEST STREET, 7G               7G     10004   \n",
       "2019-01-10         2 RIVER TERRACE, 4C               4C         0   \n",
       "2019-01-11       380 RECTOR PLACE, 10A              10A     10280   \n",
       "\n",
       "            GROSS_SQUARE_FEET  YEAR_BUILT  SALE_PRICE  \n",
       "SALE_DATE                                              \n",
       "2019-01-03             1840.0        1909     2800000  \n",
       "2019-01-07             1759.0           0     2650000  \n",
       "2019-01-09             1190.0        2005     1005000  \n",
       "2019-01-10             1088.0        2006     1678000  \n",
       "2019-01-11              873.0           0     1380000  "
      ]
     },
     "execution_count": 16,
     "metadata": {},
     "output_type": "execute_result"
    }
   ],
   "source": [
    "DATA_PATH = '../data/'\n",
    "# df = wrangle(DATA_PATH + 'condos/tribeca.csv')\n",
    "df = pd.read_csv(DATA_PATH + 'condos/tribeca.csv',\n",
    "                 parse_dates=['SALE_DATE'],\n",
    "                 index_col='SALE_DATE',\n",
    "                 dtype={'ZIP_CODE':int, 'YEAR_BUILT':int})\n",
    "print(df.shape)\n",
    "print(df.info())\n",
    "df.head()\n"
   ]
  },
  {
   "cell_type": "code",
   "execution_count": 19,
   "metadata": {},
   "outputs": [
    {
     "data": {
      "text/plain": [
       "Text(0.5, 1.0, 'Distribution of Condo Prices')"
      ]
     },
     "execution_count": 19,
     "metadata": {},
     "output_type": "execute_result"
    },
    {
     "data": {
      "image/png": "[encoded data removed]",
      "text/plain": [
       "<Figure size 432x288 with 1 Axes>"
      ]
     },
     "metadata": {
      "needs_background": "light"
     },
     "output_type": "display_data"
    }
   ],
   "source": [
    "df['SALE_PRICE'].hist()\n",
    "plt.xlabel('Pric [$10 million]')\n",
    "plt.ylabel('Count')\n",
    "plt.title('Distribution of Condo Prices')"
   ]
  },
  {
   "cell_type": "code",
   "execution_count": 20,
   "metadata": {},
   "outputs": [
    {
     "data": {
      "text/plain": [
       "Text(0.5, 1.0, 'Distribution of Condo Sizes')"
      ]
     },
     "execution_count": 20,
     "metadata": {},
     "output_type": "execute_result"
    },
    {
     "data": {
      "image/png": "[encoded data removed]",
      "text/plain": [
       "<Figure size 432x288 with 1 Axes>"
      ]
     },
     "metadata": {
      "needs_background": "light"
     },
     "output_type": "display_data"
    }
   ],
   "source": [
    "df['GROSS_SQUARE_FEET'].hist()\n",
    "plt.xlabel('Size (sq.ft)')\n",
    "plt.ylabel('Count')\n",
    "plt.title('Distribution of Condo Sizes')"
   ]
  },
  {
   "cell_type": "code",
   "execution_count": 24,
   "metadata": {},
   "outputs": [
    {
     "data": {
      "text/plain": [
       "Text(0, 0.5, 'SALE_PRICE')"
      ]
     },
     "execution_count": 24,
     "metadata": {},
     "output_type": "execute_result"
    },
    {
     "data": {
      "image/png": "[encoded data removed]",
      "text/plain": [
       "<Figure size 432x288 with 1 Axes>"
      ]
     },
     "metadata": {
      "needs_background": "light"
     },
     "output_type": "display_data"
    }
   ],
   "source": [
    "plt.scatter(df['GROSS_SQUARE_FEET'], df['SALE_PRICE'])\n",
    "plt.xlabel('GROSS_SQUARE_FEET')\n",
    "plt.ylabel('SALE_PRICE')\n",
    "\n",
    "# y axis is dependent (what we are trying to predict) target\n",
    "# x axis is independent (what will help us make a prediction) feature"
   ]
  },
  {
   "cell_type": "markdown",
   "metadata": {
    "id": "GgRcyfQMXhzJ"
   },
   "source": [
    "# II. Split Data\n",
    "\n",
    "Split our dataset into a **feature matrix `X`** and a **target vector `y`**."
   ]
  },
  {
   "cell_type": "code",
   "execution_count": 28,
   "metadata": {
    "id": "wTYqSJ8chRGa"
   },
   "outputs": [
    {
     "name": "stdout",
     "output_type": "stream",
     "text": [
      "SALE_DATE\n",
      "2019-01-03    2800000\n",
      "2019-01-07    2650000\n",
      "2019-01-09    1005000\n",
      "2019-01-10    1678000\n",
      "2019-01-11    1380000\n",
      "               ...   \n",
      "2019-04-24    5761259\n",
      "2019-04-29    2600000\n",
      "2019-04-29     605000\n",
      "2019-04-30     960000\n",
      "2019-04-30     975000\n",
      "Name: SALE_PRICE, Length: 90, dtype: int64\n",
      "(90,)\n",
      "            GROSS_SQUARE_FEET\n",
      "SALE_DATE                    \n",
      "2019-01-03             1840.0\n",
      "2019-01-07             1759.0\n",
      "2019-01-09             1190.0\n",
      "2019-01-10             1088.0\n",
      "2019-01-11              873.0\n",
      "...                       ...\n",
      "2019-04-24             2429.0\n",
      "2019-04-29             1601.0\n",
      "2019-04-29              634.0\n",
      "2019-04-30              939.0\n",
      "2019-04-30              695.0\n",
      "\n",
      "[90 rows x 1 columns]\n",
      "(90, 1)\n"
     ]
    }
   ],
   "source": [
    "target = 'SALE_PRICE'\n",
    "y = df[target]\n",
    "X = df[['GROSS_SQUARE_FEET']] # feature matrix always needs two dimensions\n",
    "print(y)\n",
    "print(y.shape)\n",
    "print(X)\n",
    "print(X.shape)"
   ]
  },
  {
   "cell_type": "markdown",
   "metadata": {
    "id": "CuwsiXRlYsjG"
   },
   "source": [
    "# III. Establish Baseline\n",
    "\n",
    "If you had a *naïve model* that could only predict one value, how well would you model perform?"
   ]
  },
  {
   "cell_type": "code",
   "execution_count": 40,
   "metadata": {
    "id": "1Ek2mN04hTmT"
   },
   "outputs": [
    {
     "name": "stdout",
     "output_type": "stream",
     "text": [
      "Mean condo price 3928736.3666666667\n",
      "Baseline MAE:  2783380.1977777784\n"
     ]
    }
   ],
   "source": [
    "# \n",
    "y_mean = y.mean()\n",
    "print('Mean condo price', y_mean)\n",
    "\n",
    "y_pred = [y_mean] * len(y)\n",
    "# y_pred[0:10]\n",
    "print('Baseline MAE: ', mean_absolute_error(y,y_pred))"
   ]
  },
  {
   "cell_type": "code",
   "execution_count": 36,
   "metadata": {
    "id": "NiWjkzmiBU3I"
   },
   "outputs": [
    {
     "data": {
      "text/plain": [
       "<matplotlib.legend.Legend at 0x146dda250>"
      ]
     },
     "execution_count": 36,
     "metadata": {},
     "output_type": "execute_result"
    },
    {
     "data": {
      "image/png": "[encoded data removed]",
      "text/plain": [
       "<Figure size 432x288 with 1 Axes>"
      ]
     },
     "metadata": {
      "needs_background": "light"
     },
     "output_type": "display_data"
    }
   ],
   "source": [
    "plt.scatter(df['GROSS_SQUARE_FEET'], df['SALE_PRICE'])\n",
    "plt.plot(df['GROSS_SQUARE_FEET'], y_pred, label='Baseline Model', color='grey')\n",
    "plt.xlabel('GROSS_SQUARE_FEET')\n",
    "plt.ylabel('SALE_PRICE')\n",
    "plt.legend()\n",
    "\n",
    "# sigma (sum) abs(y-true - y-predict) / number of observations = mean absolute error"
   ]
  },
  {
   "cell_type": "markdown",
   "metadata": {
    "id": "3bFjzSkUdl21"
   },
   "source": [
    "# IV. Build Model"
   ]
  },
  {
   "cell_type": "code",
   "execution_count": 41,
   "metadata": {
    "id": "teYsy_7fhWiG"
   },
   "outputs": [
    {
     "data": {
      "text/plain": [
       "LinearRegression()"
      ]
     },
     "execution_count": 41,
     "metadata": {},
     "output_type": "execute_result"
    }
   ],
   "source": [
    "# step 1. import predictor class\n",
    "from sklearn.linear_model import LinearRegression\n",
    "\n",
    "# step 2. instantiate your predictor\n",
    "model = LinearRegression()\n",
    "\n",
    "# step 3. fit your predictor on the (training) data\n",
    "model.fit(X,y)"
   ]
  },
  {
   "cell_type": "code",
   "execution_count": 43,
   "metadata": {},
   "outputs": [
    {
     "name": "stderr",
     "output_type": "stream",
     "text": [
      "/Users/jeffkang/.pyenv/versions/3.8.5/lib/python3.8/site-packages/sklearn/base.py:445: UserWarning: X does not have valid feature names, but LinearRegression was fitted with feature names\n",
      "  warnings.warn(\n"
     ]
    },
    {
     "data": {
      "text/plain": [
       "array([1571083.61456045, 3109307.44226995])"
      ]
     },
     "execution_count": 43,
     "metadata": {},
     "output_type": "execute_result"
    }
   ],
   "source": [
    "model.predict([[1000], [1500]])"
   ]
  },
  {
   "cell_type": "code",
   "execution_count": 44,
   "metadata": {},
   "outputs": [
    {
     "data": {
      "text/plain": [
       "<matplotlib.legend.Legend at 0x147b10a30>"
      ]
     },
     "execution_count": 44,
     "metadata": {},
     "output_type": "execute_result"
    },
    {
     "data": {
      "image/png": "[encoded data removed]",
      "text/plain": [
       "<Figure size 432x288 with 1 Axes>"
      ]
     },
     "metadata": {
      "needs_background": "light"
     },
     "output_type": "display_data"
    }
   ],
   "source": [
    "plt.scatter(X,y)\n",
    "plt.plot(X, y_pred, label='Baseline Model', color='grey')\n",
    "plt.plot(X, model.predict(X), label='Linear Model', color='red')\n",
    "plt.xlabel('GROSS_SQUARE_FEET')\n",
    "plt.ylabel('SALE_PRICE')\n",
    "plt.legend()"
   ]
  },
  {
   "cell_type": "markdown",
   "metadata": {
    "id": "Lo3CypnUfIwc"
   },
   "source": [
    "# V. Check Metrics"
   ]
  },
  {
   "cell_type": "code",
   "execution_count": 47,
   "metadata": {
    "id": "l1WsFoaUJ_Vx"
   },
   "outputs": [
    {
     "name": "stdout",
     "output_type": "stream",
     "text": [
      "Training MAE:  1176817.9930150746\n"
     ]
    }
   ],
   "source": [
    "print('Training MAE: ', mean_absolute_error(y, model.predict(X)))"
   ]
  },
  {
   "cell_type": "markdown",
   "metadata": {
    "id": "jGYUL1mufdS-"
   },
   "source": [
    "# VI. Communicate Results\n",
    "\n",
    "Plot model"
   ]
  },
  {
   "cell_type": "code",
   "execution_count": 50,
   "metadata": {
    "id": "y6RUbvFdB3jl"
   },
   "outputs": [
    {
     "data": {
      "text/plain": [
       "'PRICE = -1505364.0408585514 + 3076.4476554190023 * SQFT'"
      ]
     },
     "execution_count": 50,
     "metadata": {},
     "output_type": "execute_result"
    }
   ],
   "source": [
    "type(model)\n",
    "# beta_0, = intercept, beta_1 = coef or slope\n",
    "f'PRICE = {model.intercept_} + {model.coef_[0]} * SQFT'"
   ]
  },
  {
   "cell_type": "markdown",
   "metadata": {
    "id": "qsDBGc49K7Uh"
   },
   "source": [
    "What are our beta coefficients?"
   ]
  },
  {
   "cell_type": "code",
   "execution_count": null,
   "metadata": {
    "id": "rgoaqGY_KjnH"
   },
   "outputs": [],
   "source": []
  },
  {
   "cell_type": "code",
   "execution_count": null,
   "metadata": {
    "id": "6a-GOP4BLMOB"
   },
   "outputs": [],
   "source": []
  }
 ],
 "metadata": {
  "colab": {
   "name": "211_guided-project-notes.ipynb",
   "provenance": []
  },
  "kernelspec": {
   "display_name": "Python 3 (ipykernel)",
   "language": "python",
   "name": "python3"
  },
  "language_info": {
   "codemirror_mode": {
    "name": "ipython",
    "version": 3
   },
   "file_extension": ".py",
   "mimetype": "text/x-python",
   "name": "python",
   "nbconvert_exporter": "python",
   "pygments_lexer": "ipython3",
   "version": "3.8.5"
  }
 },
 "nbformat": 4,
 "nbformat_minor": 1
}
