{
 "cells": [
  {
   "cell_type": "markdown",
   "metadata": {},
   "source": [
    "Lambda School Data Science\n",
    "\n",
    "*Unit 2, Sprint 1, Module 1*\n",
    "\n",
    "---"
   ]
  },
  {
   "cell_type": "code",
   "execution_count": 5,
   "metadata": {},
   "outputs": [],
   "source": [
    "%%capture\n",
    "import sys\n",
    "\n",
    "# If you're on Colab:\n",
    "if 'google.colab' in sys.modules:\n",
    "    DATA_PATH = 'https://raw.githubusercontent.com/LambdaSchool/DS-Unit-2-Applied-Modeling/master/data/'\n",
    "\n",
    "# If you're working locally:\n",
    "else:\n",
    "    DATA_PATH = '../data/'"
   ]
  },
  {
   "cell_type": "markdown",
   "metadata": {},
   "source": [
    "# Module Project: Regression I\n",
    "\n",
    "During the guided project, we predicted how much it would cost to buy a condo in Tribecca. For the module project, your goal will be similar: predict how much it costs to rent an apartment in New York City.\n",
    "\n",
    "Dataset source: [renthop.com](https://www.renthop.com/).\n",
    "\n",
    "## Directions\n",
    "\n",
    "> Do Not Copy-Paste. You must *type* each of these exercises in, manually. If you copy and paste, you might as well not even do them. The point of these exercises is to train your hands, your brain, and your mind in how to read, write, and see code. If you copy-paste, you are cheating yourself out of the effectiveness of the lessons.\n",
    ">\n",
    "> — Zed Shaw, [Learn Python the Hard Way](https://learnpythonthehardway.org/)\n",
    "\n",
    "The tasks for this project are as follows:\n",
    "\n",
    "- **Task 1:** Import `csv` file using wrangle function.\n",
    "- **Task 2:** Conduct exploratory data analysis (EDA) and plot the relationship between one feature and the target `'price'`.\n",
    "- **Task 3:** Split data into feature matrix `X` and target vector `y`.\n",
    "- **Task 4:** Establish the baseline mean absolute error for your dataset.\n",
    "- **Task 5:** Build and train a `Linearregression` model.\n",
    "- **Task 6:** Check the mean absolute error of our model on the training data.\n",
    "- **Task 7:** Extract and print the intercept and coefficient from your `LinearRegression` model.\n",
    "\n",
    "**Note**\n",
    "\n",
    "You should limit yourself to the following libraries for this project:\n",
    "\n",
    "- `matplotlib`\n",
    "- `numpy`\n",
    "- `pandas`\n",
    "- `sklearn`"
   ]
  },
  {
   "cell_type": "markdown",
   "metadata": {},
   "source": [
    "## I. Wrangle Data"
   ]
  },
  {
   "cell_type": "code",
   "execution_count": 34,
   "metadata": {},
   "outputs": [],
   "source": [
    "import pandas as pd\n",
    "import numpy as np\n",
    "import matplotlib.pyplot as plt\n",
    "from sklearn.metrics import mean_absolute_error\n",
    "\n",
    "def wrangle(filepath):\n",
    "    df = pd.read_csv(filepath)\n",
    "    \n",
    "    # Remove the most extreme 1% prices,\n",
    "    # the most extreme .1% latitudes, &\n",
    "    # the most extreme .1% longitudes\n",
    "    df = df[(df['price'] >= np.percentile(df['price'], 0.5)) & \n",
    "            (df['price'] <= np.percentile(df['price'], 99.5)) & \n",
    "            (df['latitude'] >= np.percentile(df['latitude'], 0.05)) & \n",
    "            (df['latitude'] < np.percentile(df['latitude'], 99.95)) &\n",
    "            (df['longitude'] >= np.percentile(df['longitude'], 0.05)) & \n",
    "            (df['longitude'] <= np.percentile(df['longitude'], 99.95))]\n",
    "    \n",
    "    return df\n",
    "\n",
    "filepath = DATA_PATH + 'apartments/renthop-nyc.csv'"
   ]
  },
  {
   "cell_type": "markdown",
   "metadata": {},
   "source": [
    "**Task 1:** Use the above `wrangle` function to import the `renthop-nyc.csv` file into a DataFrame named `df`."
   ]
  },
  {
   "cell_type": "code",
   "execution_count": 28,
   "metadata": {},
   "outputs": [
    {
     "name": "stdout",
     "output_type": "stream",
     "text": [
      "(48817, 34)\n",
      "<class 'pandas.core.frame.DataFrame'>\n",
      "Int64Index: 48817 entries, 0 to 49351\n",
      "Data columns (total 34 columns):\n",
      " #   Column                Non-Null Count  Dtype  \n",
      "---  ------                --------------  -----  \n",
      " 0   bathrooms             48817 non-null  float64\n",
      " 1   bedrooms              48817 non-null  int64  \n",
      " 2   created               48817 non-null  object \n",
      " 3   description           47392 non-null  object \n",
      " 4   display_address       48684 non-null  object \n",
      " 5   latitude              48817 non-null  float64\n",
      " 6   longitude             48817 non-null  float64\n",
      " 7   price                 48817 non-null  int64  \n",
      " 8   street_address        48807 non-null  object \n",
      " 9   interest_level        48817 non-null  object \n",
      " 10  elevator              48817 non-null  int64  \n",
      " 11  cats_allowed          48817 non-null  int64  \n",
      " 12  hardwood_floors       48817 non-null  int64  \n",
      " 13  dogs_allowed          48817 non-null  int64  \n",
      " 14  doorman               48817 non-null  int64  \n",
      " 15  dishwasher            48817 non-null  int64  \n",
      " 16  no_fee                48817 non-null  int64  \n",
      " 17  laundry_in_building   48817 non-null  int64  \n",
      " 18  fitness_center        48817 non-null  int64  \n",
      " 19  pre-war               48817 non-null  int64  \n",
      " 20  laundry_in_unit       48817 non-null  int64  \n",
      " 21  roof_deck             48817 non-null  int64  \n",
      " 22  outdoor_space         48817 non-null  int64  \n",
      " 23  dining_room           48817 non-null  int64  \n",
      " 24  high_speed_internet   48817 non-null  int64  \n",
      " 25  balcony               48817 non-null  int64  \n",
      " 26  swimming_pool         48817 non-null  int64  \n",
      " 27  new_construction      48817 non-null  int64  \n",
      " 28  terrace               48817 non-null  int64  \n",
      " 29  exclusive             48817 non-null  int64  \n",
      " 30  loft                  48817 non-null  int64  \n",
      " 31  garden_patio          48817 non-null  int64  \n",
      " 32  wheelchair_access     48817 non-null  int64  \n",
      " 33  common_outdoor_space  48817 non-null  int64  \n",
      "dtypes: float64(3), int64(26), object(5)\n",
      "memory usage: 13.0+ MB\n",
      "None\n"
     ]
    },
    {
     "data": {
      "text/plain": [
       "<bound method NDFrame.head of        bathrooms  bedrooms              created  \\\n",
       "0            1.5         3  2016-06-24 07:54:24   \n",
       "1            1.0         2  2016-06-12 12:19:27   \n",
       "2            1.0         1  2016-04-17 03:26:41   \n",
       "3            1.0         1  2016-04-18 02:22:02   \n",
       "4            1.0         4  2016-04-28 01:32:41   \n",
       "...          ...       ...                  ...   \n",
       "49347        1.0         2  2016-06-02 05:41:05   \n",
       "49348        1.0         1  2016-04-04 18:22:34   \n",
       "49349        1.0         1  2016-04-16 02:13:40   \n",
       "49350        1.0         0  2016-04-08 02:13:33   \n",
       "49351        1.0         2  2016-04-12 02:48:07   \n",
       "\n",
       "                                             description      display_address  \\\n",
       "0      A Brand New 3 Bedroom 1.5 bath ApartmentEnjoy ...  Metropolitan Avenue   \n",
       "1                                                             Columbus Avenue   \n",
       "2      Top Top West Village location, beautiful Pre-w...          W 13 Street   \n",
       "3      Building Amenities - Garage - Garden - fitness...     East 49th Street   \n",
       "4      Beautifully renovated 3 bedroom flex 4 bedroom...    West 143rd Street   \n",
       "...                                                  ...                  ...   \n",
       "49347  30TH/3RD, MASSIVE CONV 2BR IN LUXURY FULL SERV...              E 30 St   \n",
       "49348  HIGH END condo finishes, swimming pool, and ki...            Rector Pl   \n",
       "49349  Large Renovated One Bedroom Apartment with Sta...     West 45th Street   \n",
       "49350  Stylishly sleek studio apartment with unsurpas...          Wall Street   \n",
       "49351  Look no further!!!  This giant 2 bedroom apart...    Park Terrace East   \n",
       "\n",
       "       latitude  longitude  price           street_address interest_level  \\\n",
       "0       40.7145   -73.9425   3000  792 Metropolitan Avenue         medium   \n",
       "1       40.7947   -73.9667   5465      808 Columbus Avenue            low   \n",
       "2       40.7388   -74.0018   2850          241 W 13 Street           high   \n",
       "3       40.7539   -73.9677   3275     333 East 49th Street            low   \n",
       "4       40.8241   -73.9493   3350    500 West 143rd Street            low   \n",
       "...         ...        ...    ...                      ...            ...   \n",
       "49347   40.7426   -73.9790   3200              230 E 30 St         medium   \n",
       "49348   40.7102   -74.0163   3950         225 Rector Place            low   \n",
       "49349   40.7601   -73.9900   2595     341 West 45th Street            low   \n",
       "49350   40.7066   -74.0101   3350           37 Wall Street            low   \n",
       "49351   40.8699   -73.9172   2200     30 Park Terrace East            low   \n",
       "\n",
       "       ...  high_speed_internet  balcony  swimming_pool  new_construction  \\\n",
       "0      ...                    0        0              0                 0   \n",
       "1      ...                    0        0              0                 0   \n",
       "2      ...                    0        0              0                 0   \n",
       "3      ...                    0        0              0                 0   \n",
       "4      ...                    0        0              0                 0   \n",
       "...    ...                  ...      ...            ...               ...   \n",
       "49347  ...                    0        0              0                 0   \n",
       "49348  ...                    0        0              0                 0   \n",
       "49349  ...                    0        0              0                 0   \n",
       "49350  ...                    0        0              0                 0   \n",
       "49351  ...                    0        0              0                 0   \n",
       "\n",
       "       terrace  exclusive  loft  garden_patio  wheelchair_access  \\\n",
       "0            0          0     0             0                  0   \n",
       "1            0          0     0             0                  0   \n",
       "2            0          0     0             0                  0   \n",
       "3            0          0     0             0                  0   \n",
       "4            0          0     0             0                  0   \n",
       "...        ...        ...   ...           ...                ...   \n",
       "49347        0          0     0             0                  0   \n",
       "49348        0          1     0             0                  0   \n",
       "49349        0          0     0             0                  0   \n",
       "49350        0          0     0             0                  0   \n",
       "49351        0          0     0             0                  0   \n",
       "\n",
       "       common_outdoor_space  \n",
       "0                         0  \n",
       "1                         0  \n",
       "2                         0  \n",
       "3                         0  \n",
       "4                         0  \n",
       "...                     ...  \n",
       "49347                     0  \n",
       "49348                     1  \n",
       "49349                     0  \n",
       "49350                     0  \n",
       "49351                     0  \n",
       "\n",
       "[48817 rows x 34 columns]>"
      ]
     },
     "execution_count": 28,
     "metadata": {},
     "output_type": "execute_result"
    }
   ],
   "source": [
    "df = wrangle('../data/apartments/renthop-nyc.csv')\n",
    "print(df.shape)\n",
    "print(df.info())\n",
    "df.head"
   ]
  },
  {
   "cell_type": "markdown",
   "metadata": {},
   "source": [
    "**Task 2:** Use your `pandas` and dataviz skills to explore the dataset. As part of this process, make a scatter plot that shows the relationship between one of the numerical features in the dataset and the target `'price'`.\n",
    "\n",
    "**Remember:** You should plot your feature on the `X` axis and your target on the `y` axis."
   ]
  },
  {
   "cell_type": "code",
   "execution_count": 29,
   "metadata": {},
   "outputs": [
    {
     "data": {
      "text/plain": [
       "Text(0, 0.5, 'Sale Price')"
      ]
     },
     "execution_count": 29,
     "metadata": {},
     "output_type": "execute_result"
    },
    {
     "data": {
      "image/png": "[encoded data removed]",
      "text/plain": [
       "<Figure size 432x288 with 1 Axes>"
      ]
     },
     "metadata": {
      "needs_background": "light"
     },
     "output_type": "display_data"
    }
   ],
   "source": [
    "plt.scatter(df['bedrooms'], df['price'])\n",
    "plt.xlabel('Number of bedrooms')\n",
    "plt.ylabel('Sale Price')"
   ]
  },
  {
   "cell_type": "markdown",
   "metadata": {},
   "source": [
    "#  II. Split Data\n",
    "\n",
    "**Task 3:** Choose one feature from the dataset and assign it to your feature matrix `X`. Then assign the column `'price'` to the target vector `y`.\n",
    "\n",
    "**Remember:** Your feature matrix needs to be two-dimensional, but your feature matrix must be one-dimensional."
   ]
  },
  {
   "cell_type": "code",
   "execution_count": 30,
   "metadata": {},
   "outputs": [
    {
     "name": "stdout",
     "output_type": "stream",
     "text": [
      "(48817,)\n",
      "(48817, 1)\n"
     ]
    }
   ],
   "source": [
    "X = df[['bedrooms']]\n",
    "y = df['price']\n",
    "print(y.shape)\n",
    "print(X.shape)"
   ]
  },
  {
   "cell_type": "markdown",
   "metadata": {},
   "source": [
    "# III. Establish Baseline\n",
    "\n",
    "**Task 4:** Since this is a **regression** problem, you need to calculate the baseline the mean absolute error for your model. First, calculate the mean of `y`. Next, create a list `y_pred` that has the same length as `y` and where every item in the list is the mean. Finally, use `mean_absolute_error` to calculate your baseline."
   ]
  },
  {
   "cell_type": "code",
   "execution_count": 33,
   "metadata": {},
   "outputs": [
    {
     "name": "stdout",
     "output_type": "stream",
     "text": [
      "3579.5852469426636\n",
      "Baseline MAE: 1201.532252154329\n"
     ]
    }
   ],
   "source": [
    "y_mean = y.mean()\n",
    "print(y_mean)\n",
    "y_pred = [y_mean] * len(y)\n",
    "# print(y_pred[0:5])\n",
    "baseline_mae = mean_absolute_error(y,y_pred)\n",
    "print('Baseline MAE:', baseline_mae)"
   ]
  },
  {
   "cell_type": "markdown",
   "metadata": {},
   "source": [
    "# IV. Build Model\n",
    "\n",
    "**Task 5:** Build and train a `LinearRegression` model named `model` using your feature matrix `X` and your target vector `y`."
   ]
  },
  {
   "cell_type": "code",
   "execution_count": 37,
   "metadata": {},
   "outputs": [
    {
     "data": {
      "text/plain": [
       "LinearRegression()"
      ]
     },
     "execution_count": 37,
     "metadata": {},
     "output_type": "execute_result"
    }
   ],
   "source": [
    "# Step 1: Import predictor class\n",
    "from sklearn.linear_model import LinearRegression\n",
    "\n",
    "# Step 2: Instantiate predictor\n",
    "model = LinearRegression()\n",
    "\n",
    "# Step 3: Fit predictor on the (training) data\n",
    "model.fit(X,y)"
   ]
  },
  {
   "cell_type": "markdown",
   "metadata": {},
   "source": [
    "# V. Check Metrics\n",
    "\n",
    "**Task 6:** How does your model perform in comparison to your baseline? Calculate the mean absolute error for your model's predictions."
   ]
  },
  {
   "cell_type": "code",
   "execution_count": 38,
   "metadata": {},
   "outputs": [
    {
     "name": "stdout",
     "output_type": "stream",
     "text": [
      "Training MAE: 975.6496767374764\n"
     ]
    }
   ],
   "source": [
    "training_mae = mean_absolute_error(y, model.predict(X))\n",
    "\n",
    "print('Training MAE:', training_mae)"
   ]
  },
  {
   "cell_type": "markdown",
   "metadata": {},
   "source": [
    "# VI. Communicate Results \n",
    "\n",
    "You've just created a linear model. That means that your model makes predictions using an equation that looks like $\\texttt{apt price} = \\texttt{intercept}~+~\\texttt{coefficient}~\\times~\\texttt{your feature}$. But what are the values of the intercept and coefficient that your model is using? \n",
    "\n",
    "**Task 7:** Print out the intercept and coefficient associated with `model`."
   ]
  },
  {
   "cell_type": "code",
   "execution_count": 42,
   "metadata": {},
   "outputs": [
    {
     "name": "stdout",
     "output_type": "stream",
     "text": [
      "2267.987688178934\n",
      "853.266408483175\n"
     ]
    }
   ],
   "source": [
    "intercept = model.intercept_\n",
    "print(intercept)\n",
    "coefficient = model.coef_[0]\n",
    "print(coefficient)"
   ]
  }
 ],
 "metadata": {
  "colab": {
   "collapsed_sections": [],
   "name": "LS_DS_211_solution.ipynb",
   "provenance": []
  },
  "kernelspec": {
   "display_name": "Python 3 (ipykernel)",
   "language": "python",
   "name": "python3"
  },
  "language_info": {
   "codemirror_mode": {
    "name": "ipython",
    "version": 3
   },
   "file_extension": ".py",
   "mimetype": "text/x-python",
   "name": "python",
   "nbconvert_exporter": "python",
   "pygments_lexer": "ipython3",
   "version": "3.8.5"
  },
  "widgets": {
   "application/vnd.jupyter.widget-state+json": {
    "038fb72d2f144665b2897d970f9920c5": {
     "model_module": "@jupyter-widgets/base",
     "model_name": "LayoutModel",
     "state": {
      "_model_module": "@jupyter-widgets/base",
      "_model_module_version": "1.2.0",
      "_model_name": "LayoutModel",
      "_view_count": null,
      "_view_module": "@jupyter-widgets/base",
      "_view_module_version": "1.2.0",
      "_view_name": "LayoutView",
      "align_content": null,
      "align_items": null,
      "align_self": null,
      "border": null,
      "bottom": null,
      "display": null,
      "flex": null,
      "flex_flow": null,
      "grid_area": null,
      "grid_auto_columns": null,
      "grid_auto_flow": null,
      "grid_auto_rows": null,
      "grid_column": null,
      "grid_gap": null,
      "grid_row": null,
      "grid_template_areas": null,
      "grid_template_columns": null,
      "grid_template_rows": null,
      "height": null,
      "justify_content": null,
      "justify_items": null,
      "left": null,
      "margin": null,
      "max_height": null,
      "max_width": null,
      "min_height": null,
      "min_width": null,
      "object_fit": null,
      "object_position": null,
      "order": null,
      "overflow": null,
      "overflow_x": null,
      "overflow_y": null,
      "padding": null,
      "right": null,
      "top": null,
      "visibility": null,
      "width": null
     }
    },
    "10fef5d3d77b4a2bb244ac678e2f9e99": {
     "model_module": "@jupyter-widgets/output",
     "model_name": "OutputModel",
     "state": {
      "_dom_classes": [],
      "_model_module": "@jupyter-widgets/output",
      "_model_module_version": "1.0.0",
      "_model_name": "OutputModel",
      "_view_count": null,
      "_view_module": "@jupyter-widgets/output",
      "_view_module_version": "1.0.0",
      "_view_name": "OutputView",
      "layout": "IPY_MODEL_ce2f8a57f7c648e4a189cde1669503cb",
      "msg_id": "",
      "outputs": [
       {
        "metadata": {
         "tags": []
        },
        "output_type": "display_data",
        "text/plain": "'Rent for a 2-bedroom apartment in New York City is estimated at $3,974. Each additional bedroom is associated with a $853 increase in this model.'"
       }
      ]
     }
    },
    "2996358879be4a7d9e9df7790eb90867": {
     "model_module": "@jupyter-widgets/controls",
     "model_name": "VBoxModel",
     "state": {
      "_dom_classes": [
       "widget-interact"
      ],
      "_model_module": "@jupyter-widgets/controls",
      "_model_module_version": "1.5.0",
      "_model_name": "VBoxModel",
      "_view_count": null,
      "_view_module": "@jupyter-widgets/controls",
      "_view_module_version": "1.5.0",
      "_view_name": "VBoxView",
      "box_style": "",
      "children": [
       "IPY_MODEL_9943be415c544ba8be4615000316dd67",
       "IPY_MODEL_10fef5d3d77b4a2bb244ac678e2f9e99"
      ],
      "layout": "IPY_MODEL_038fb72d2f144665b2897d970f9920c5"
     }
    },
    "472a8f7627d5432580cd3d53480a320d": {
     "model_module": "@jupyter-widgets/base",
     "model_name": "LayoutModel",
     "state": {
      "_model_module": "@jupyter-widgets/base",
      "_model_module_version": "1.2.0",
      "_model_name": "LayoutModel",
      "_view_count": null,
      "_view_module": "@jupyter-widgets/base",
      "_view_module_version": "1.2.0",
      "_view_name": "LayoutView",
      "align_content": null,
      "align_items": null,
      "align_self": null,
      "border": null,
      "bottom": null,
      "display": null,
      "flex": null,
      "flex_flow": null,
      "grid_area": null,
      "grid_auto_columns": null,
      "grid_auto_flow": null,
      "grid_auto_rows": null,
      "grid_column": null,
      "grid_gap": null,
      "grid_row": null,
      "grid_template_areas": null,
      "grid_template_columns": null,
      "grid_template_rows": null,
      "height": null,
      "justify_content": null,
      "justify_items": null,
      "left": null,
      "margin": null,
      "max_height": null,
      "max_width": null,
      "min_height": null,
      "min_width": null,
      "object_fit": null,
      "object_position": null,
      "order": null,
      "overflow": null,
      "overflow_x": null,
      "overflow_y": null,
      "padding": null,
      "right": null,
      "top": null,
      "visibility": null,
      "width": null
     }
    },
    "9943be415c544ba8be4615000316dd67": {
     "model_module": "@jupyter-widgets/controls",
     "model_name": "IntSliderModel",
     "state": {
      "_dom_classes": [],
      "_model_module": "@jupyter-widgets/controls",
      "_model_module_version": "1.5.0",
      "_model_name": "IntSliderModel",
      "_view_count": null,
      "_view_module": "@jupyter-widgets/controls",
      "_view_module_version": "1.5.0",
      "_view_name": "IntSliderView",
      "continuous_update": true,
      "description": "bedrooms",
      "description_tooltip": null,
      "disabled": false,
      "layout": "IPY_MODEL_472a8f7627d5432580cd3d53480a320d",
      "max": 4,
      "min": 1,
      "orientation": "horizontal",
      "readout": true,
      "readout_format": "d",
      "step": 1,
      "style": "IPY_MODEL_f496517c23114e2d9920990aa81265b9",
      "value": 2
     }
    },
    "f496517c23114e2d9920990aa81265b9": {
     "model_module": "@jupyter-widgets/controls",
     "model_name": "SliderStyleModel",
     "state": {
      "_model_module": "@jupyter-widgets/controls",
      "_model_module_version": "1.5.0",
      "_model_name": "SliderStyleModel",
      "_view_count": null,
      "_view_module": "@jupyter-widgets/base",
      "_view_module_version": "1.2.0",
      "_view_name": "StyleView",
      "description_width": "",
      "handle_color": null
     }
    }
   }
  }
 },
 "nbformat": 4,
 "nbformat_minor": 1
}
